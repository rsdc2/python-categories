{
 "cells": [
  {
   "cell_type": "code",
   "execution_count": 1,
   "metadata": {},
   "outputs": [],
   "source": [
    "from typing import Callable, TypeVar\n",
    "from itertools import chain\n",
    "from categories.monad import Monad, monad\n",
    "from categories.maybe import Maybe, maybe, Just, Nothing\n",
    "\n",
    "\n",
    "T = TypeVar('T')\n",
    "U = TypeVar('U')\n",
    "V = TypeVar('V')"
   ]
  },
  {
   "cell_type": "code",
   "execution_count": 2,
   "metadata": {},
   "outputs": [
    {
     "data": {
      "text/plain": [
       "Monad[list]([1, 1, 2, 2, 3, 3])"
      ]
     },
     "execution_count": 2,
     "metadata": {},
     "output_type": "execute_result"
    }
   ],
   "source": [
    "def mapf(l: list[U], f: Callable[[U], V]) -> list[V]:\n",
    "    return list(map(f, l))\n",
    "\n",
    "def joinlist(ll: list[list[U]]) -> list[U]:\n",
    "    return [*chain(*ll)]\n",
    "\n",
    "def bindlist(l: list[T], f: Callable[[T], list[U]]) -> list[U]:\n",
    "    return [*chain(*map(f, l))]\n",
    "\n",
    "ListMonad = monad[list](fmap=mapf, bind=bindlist)\n",
    "listmonad: Monad[list, int] = ListMonad([1, 2, 3])\n",
    "\n",
    "\n",
    "def repeat(x: int) -> list[int]:\n",
    "    return [x, x]\n",
    "\n",
    "z  = listmonad.bind(repeat)\n",
    "z"
   ]
  },
  {
   "cell_type": "code",
   "execution_count": 3,
   "metadata": {},
   "outputs": [
    {
     "name": "stdout",
     "output_type": "stream",
     "text": [
      "Monad[Nothing](Nothing)\n"
     ]
    }
   ],
   "source": [
    "MaybeM = monad[Maybe](fmap=maybe.fmap, bind=maybe.bind)\n",
    "\n",
    "maybeM: Monad[Maybe, int] = MaybeM(Just(0))\n",
    "\n",
    "print(maybeM.bind(lambda x: Nothing() if x == 0 else Just(x)))"
   ]
  }
 ],
 "metadata": {
  "kernelspec": {
   "display_name": ".env312ju",
   "language": "python",
   "name": "python3"
  },
  "language_info": {
   "codemirror_mode": {
    "name": "ipython",
    "version": 3
   },
   "file_extension": ".py",
   "mimetype": "text/x-python",
   "name": "python",
   "nbconvert_exporter": "python",
   "pygments_lexer": "ipython3",
   "version": "3.12.6"
  }
 },
 "nbformat": 4,
 "nbformat_minor": 2
}
