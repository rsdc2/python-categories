{
 "cells": [
  {
   "cell_type": "code",
   "execution_count": 4,
   "metadata": {},
   "outputs": [],
   "source": [
    "from typing import Callable, TypeVar\n",
    "from itertools import chain\n",
    "from python_categories.monad import Monad, monad, bind\n",
    "from python_categories.functors.endofunctor import fmap\n",
    "from python_categories.maybe import Maybe, maybe, Just, Nothing\n",
    "\n",
    "\n",
    "T = TypeVar('T')\n",
    "U = TypeVar('U')\n",
    "V = TypeVar('V')"
   ]
  },
  {
   "cell_type": "code",
   "execution_count": 5,
   "metadata": {},
   "outputs": [
    {
     "data": {
      "text/plain": [
       "Monad[list]([1, 1, 2, 1, 2, 3])"
      ]
     },
     "execution_count": 5,
     "metadata": {},
     "output_type": "execute_result"
    }
   ],
   "source": [
    "def maplist(l: list[U], f: Callable[[U], V]) -> list[V]:\n",
    "    return list(map(f, l))\n",
    "\n",
    "def bindlist(l: list[T], f: Callable[[T], list[U]]) -> list[U]:\n",
    "    return [*chain(*map(f, l))]\n",
    "\n",
    "ListM = monad[list](fmap=maplist, bind=bindlist)\n",
    "list_m = ListM(int, [1, 2, 3])\n",
    "\n",
    "result = list_m.bind[int](lambda x: [*range(1, x + 1)])"
   ]
  },
  {
   "cell_type": "code",
   "execution_count": 7,
   "metadata": {},
   "outputs": [
    {
     "data": {
      "text/plain": [
       "Monad[list]([2, 3, 4])"
      ]
     },
     "execution_count": 7,
     "metadata": {},
     "output_type": "execute_result"
    }
   ],
   "source": [
    "x = fmap(list_m, lambda x: x + 1)\n",
    "x"
   ]
  },
  {
   "cell_type": "code",
   "execution_count": null,
   "metadata": {},
   "outputs": [],
   "source": [
    "MaybeM = monad[Maybe](fmap=maybe.fmap, bind=maybe.bind)\n",
    "\n",
    "maybeM = MaybeM(int, Just(0))\n",
    "\n",
    "\n",
    "def bindfunc(x: T) -> Maybe[U]:\n",
    "    return Nothing() if x == 0 else Just(x)\n",
    "\n",
    "result = maybeM.bind(bindfunc)\n",
    "result"
   ]
  },
  {
   "cell_type": "code",
   "execution_count": null,
   "metadata": {},
   "outputs": [],
   "source": [
    "def bindfunc(x: T) -> Maybe[U]:\n",
    "    return Nothing() if x == 0 else Just(x)\n",
    "\n",
    "result = bind(int, maybeM, bindfunc)"
   ]
  },
  {
   "cell_type": "code",
   "execution_count": null,
   "metadata": {},
   "outputs": [],
   "source": [
    "result = fmap(maybeM, lambda x: x + 1)"
   ]
  },
  {
   "cell_type": "markdown",
   "metadata": {},
   "source": []
  }
 ],
 "metadata": {
  "kernelspec": {
   "display_name": ".env312ju",
   "language": "python",
   "name": "python3"
  },
  "language_info": {
   "codemirror_mode": {
    "name": "ipython",
    "version": 3
   },
   "file_extension": ".py",
   "mimetype": "text/x-python",
   "name": "python",
   "nbconvert_exporter": "python",
   "pygments_lexer": "ipython3",
   "version": "3.12.6"
  }
 },
 "nbformat": 4,
 "nbformat_minor": 2
}
