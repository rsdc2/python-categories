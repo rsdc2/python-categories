{
 "cells": [
  {
   "cell_type": "code",
   "execution_count": 2,
   "metadata": {},
   "outputs": [],
   "source": [
    "from typing import Callable, TypeVar\n",
    "from itertools import chain\n",
    "from categories.monad import Monad, monad\n",
    "from categories.maybe import Maybe, maybe, Just, Nothing\n",
    "\n",
    "\n",
    "T = TypeVar('T')\n",
    "U = TypeVar('U')\n",
    "V = TypeVar('V')"
   ]
  },
  {
   "cell_type": "code",
   "execution_count": 4,
   "metadata": {},
   "outputs": [
    {
     "data": {
      "text/plain": [
       "Monad[list]([1, 1, 2, 1, 2, 3])"
      ]
     },
     "execution_count": 4,
     "metadata": {},
     "output_type": "execute_result"
    }
   ],
   "source": [
    "def maplist(l: list[U], f: Callable[[U], V]) -> list[V]:\n",
    "    return list(map(f, l))\n",
    "\n",
    "def bindlist(l: list[T], f: Callable[[T], list[U]]) -> list[U]:\n",
    "    return [*chain(*map(f, l))]\n",
    "\n",
    "ListM = monad[list](fmap=maplist, bind=bindlist)\n",
    "list_m = ListM(int, [1, 2, 3])\n",
    "\n",
    "list_m.bind(lambda x: [*range(1, x + 1)])"
   ]
  },
  {
   "cell_type": "code",
   "execution_count": 3,
   "metadata": {},
   "outputs": [
    {
     "name": "stdout",
     "output_type": "stream",
     "text": [
      "Monad[Nothing](Nothing)\n"
     ]
    }
   ],
   "source": [
    "MaybeM = monad[Maybe](fmap=maybe.fmap, bind=maybe.bind)\n",
    "\n",
    "maybeM: Monad[Maybe, int] = MaybeM(Just(0))\n",
    "\n",
    "print(maybeM.bind(lambda x: Nothing() if x == 0 else Just(x)))"
   ]
  }
 ],
 "metadata": {
  "kernelspec": {
   "display_name": ".env312ju",
   "language": "python",
   "name": "python3"
  },
  "language_info": {
   "codemirror_mode": {
    "name": "ipython",
    "version": 3
   },
   "file_extension": ".py",
   "mimetype": "text/x-python",
   "name": "python",
   "nbconvert_exporter": "python",
   "pygments_lexer": "ipython3",
   "version": "3.12.6"
  }
 },
 "nbformat": 4,
 "nbformat_minor": 2
}
