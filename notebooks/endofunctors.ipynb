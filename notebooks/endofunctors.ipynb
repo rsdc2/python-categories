{
 "cells": [
  {
   "cell_type": "code",
   "execution_count": 3,
   "metadata": {},
   "outputs": [],
   "source": [
    "from typing import Callable, TypeVar\n",
    "from categories.functors.endofunctor import Endofunctor, endofunctor\n",
    "from categories.maybe import Maybe, Just, Nothing, maybe\n",
    "\n",
    "T = TypeVar('T')\n",
    "U = TypeVar('U')\n",
    "V = TypeVar('V')"
   ]
  },
  {
   "cell_type": "code",
   "execution_count": 6,
   "metadata": {},
   "outputs": [
    {
     "data": {
      "text/plain": [
       "Endofunctor[list]([1.0, 2.0, 3.0])"
      ]
     },
     "execution_count": 6,
     "metadata": {},
     "output_type": "execute_result"
    }
   ],
   "source": [
    "def mapf(l: list, f: Callable[[U], V]) -> list:\n",
    "    return list(map(f, l))\n",
    "\n",
    "ListF = endofunctor[list](fmap=mapf)\n",
    "list_f: Endofunctor[list, int] = ListF(int, [1, 2, 3])\n",
    "\n",
    "list_f.fmap(str).fmap(float)"
   ]
  },
  {
   "cell_type": "code",
   "execution_count": 7,
   "metadata": {},
   "outputs": [
    {
     "data": {
      "text/plain": [
       "[1, 2, 3]"
      ]
     },
     "execution_count": 7,
     "metadata": {},
     "output_type": "execute_result"
    }
   ],
   "source": [
    "list_f._finst"
   ]
  },
  {
   "cell_type": "code",
   "execution_count": 5,
   "metadata": {},
   "outputs": [
    {
     "ename": "TypeError",
     "evalue": "endofunctor.__call__() missing 1 required positional argument: 'v'",
     "output_type": "error",
     "traceback": [
      "\u001b[0;31m---------------------------------------------------------------------------\u001b[0m",
      "\u001b[0;31mTypeError\u001b[0m                                 Traceback (most recent call last)",
      "Cell \u001b[0;32mIn[5], line 2\u001b[0m\n\u001b[1;32m      1\u001b[0m MaybeFunctor \u001b[38;5;241m=\u001b[39m endofunctor[Maybe](fmap\u001b[38;5;241m=\u001b[39mmaybe\u001b[38;5;241m.\u001b[39mfmap)\n\u001b[0;32m----> 2\u001b[0m maybe_functor_inst: Endofunctor[Maybe, \u001b[38;5;28mint\u001b[39m] \u001b[38;5;241m=\u001b[39m \u001b[43mMaybeFunctor\u001b[49m\u001b[43m(\u001b[49m\u001b[43mmaybe\u001b[49m\u001b[43m[\u001b[49m\u001b[38;5;28;43mint\u001b[39;49m\u001b[43m]\u001b[49m\u001b[38;5;241;43m.\u001b[39;49m\u001b[43mof\u001b[49m\u001b[43m(\u001b[49m\u001b[38;5;241;43m1\u001b[39;49m\u001b[43m)\u001b[49m\u001b[43m)\u001b[49m\n\u001b[1;32m      4\u001b[0m x \u001b[38;5;241m=\u001b[39m maybe_functor_inst\u001b[38;5;241m.\u001b[39mfmap(\u001b[38;5;28;01mlambda\u001b[39;00m x: x \u001b[38;5;241m+\u001b[39m \u001b[38;5;241m2\u001b[39m)\u001b[38;5;241m.\u001b[39mfmap(\u001b[38;5;28;01mlambda\u001b[39;00m x: \u001b[38;5;28;01mNone\u001b[39;00m)\n\u001b[1;32m      5\u001b[0m x\u001b[38;5;241m.\u001b[39m_finst\n",
      "\u001b[0;31mTypeError\u001b[0m: endofunctor.__call__() missing 1 required positional argument: 'v'"
     ]
    }
   ],
   "source": [
    "MaybeF = endofunctor[Maybe](fmap=maybe.fmap)\n",
    "maybe_f = MaybeF(int, Just(1))\n",
    "\n",
    "x = maybe_f.fmap(lambda x: x + 2).fmap(lambda x: None)\n",
    "x._finst"
   ]
  }
 ],
 "metadata": {
  "kernelspec": {
   "display_name": ".env312ju",
   "language": "python",
   "name": "python3"
  },
  "language_info": {
   "codemirror_mode": {
    "name": "ipython",
    "version": 3
   },
   "file_extension": ".py",
   "mimetype": "text/x-python",
   "name": "python",
   "nbconvert_exporter": "python",
   "pygments_lexer": "ipython3",
   "version": "3.12.6"
  }
 },
 "nbformat": 4,
 "nbformat_minor": 2
}
