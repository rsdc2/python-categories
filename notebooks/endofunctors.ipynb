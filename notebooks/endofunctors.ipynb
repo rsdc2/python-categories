{
 "cells": [
  {
   "cell_type": "code",
   "execution_count": 1,
   "metadata": {},
   "outputs": [],
   "source": [
    "from typing import Callable, TypeVar\n",
    "from categories.endofunctor import Endofunctor, endofunctor\n",
    "from categories.maybe import Maybe, Just, Nothing, maybe\n",
    "\n",
    "T = TypeVar('T')\n",
    "U = TypeVar('U')\n",
    "V = TypeVar('V')"
   ]
  },
  {
   "cell_type": "code",
   "execution_count": 2,
   "metadata": {},
   "outputs": [
    {
     "data": {
      "text/plain": [
       "Endofunctor(endofunctor(<function mapf at 0x745088e5cd60>), [1.0, 2.0, 3.0])"
      ]
     },
     "execution_count": 2,
     "metadata": {},
     "output_type": "execute_result"
    }
   ],
   "source": [
    "def mapf(l: list, f: Callable[[U], V]) -> list:\n",
    "    return list(map(f, l))\n",
    "\n",
    "ListFunctor = endofunctor[list](fmap=mapf)\n",
    "list_functor_inst: Endofunctor[list, int] = ListFunctor([1, 2, 3])\n",
    "\n",
    "s = list_functor_inst.fmap(str).fmap(float)\n",
    "s"
   ]
  },
  {
   "cell_type": "code",
   "execution_count": 3,
   "metadata": {},
   "outputs": [
    {
     "data": {
      "text/plain": [
       "Just(4: int)"
      ]
     },
     "execution_count": 3,
     "metadata": {},
     "output_type": "execute_result"
    }
   ],
   "source": [
    "MaybeFunctor = endofunctor[Maybe](fmap=maybe.fmap)\n",
    "maybe_functor_inst: Endofunctor[Maybe, int] = MaybeFunctor(maybe[int].of(1))\n",
    "\n",
    "x = maybe_functor_inst.fmap(lambda x: x + 2).fmap(lambda x: None)\n",
    "x._functor_inst"
   ]
  }
 ],
 "metadata": {
  "kernelspec": {
   "display_name": ".env312ju",
   "language": "python",
   "name": "python3"
  },
  "language_info": {
   "codemirror_mode": {
    "name": "ipython",
    "version": 3
   },
   "file_extension": ".py",
   "mimetype": "text/x-python",
   "name": "python",
   "nbconvert_exporter": "python",
   "pygments_lexer": "ipython3",
   "version": "3.12.6"
  }
 },
 "nbformat": 4,
 "nbformat_minor": 2
}
