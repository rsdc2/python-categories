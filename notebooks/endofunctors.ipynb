{
 "cells": [
  {
   "cell_type": "code",
   "execution_count": 6,
   "metadata": {},
   "outputs": [],
   "source": [
    "from typing import Callable, TypeVar\n",
    "from python_categories.functors.endofunctor import Endofunctor, endofunctor, fmap\n",
    "from python_categories.maybe import Maybe, Just, Nothing, maybe\n",
    "\n",
    "T = TypeVar('T')\n",
    "U = TypeVar('U')\n",
    "V = TypeVar('V')"
   ]
  },
  {
   "cell_type": "code",
   "execution_count": 7,
   "metadata": {},
   "outputs": [
    {
     "data": {
      "text/plain": [
       "Endofunctor[list]([1.0, 2.0, 3.0])"
      ]
     },
     "execution_count": 7,
     "metadata": {},
     "output_type": "execute_result"
    }
   ],
   "source": [
    "def mapf(l: list, f: Callable[[U], V]) -> list:\n",
    "    return list(map(f, l))\n",
    "\n",
    "ListF = endofunctor[list](fmap=mapf)\n",
    "list_f: Endofunctor[list, int] = ListF(int, [1, 2, 3])\n",
    "\n",
    "list_f.fmap(str).fmap(float)"
   ]
  },
  {
   "cell_type": "code",
   "execution_count": 8,
   "metadata": {},
   "outputs": [
    {
     "data": {
      "text/plain": [
       "[1, 2, 3]"
      ]
     },
     "execution_count": 8,
     "metadata": {},
     "output_type": "execute_result"
    }
   ],
   "source": [
    "list_f._finst"
   ]
  },
  {
   "cell_type": "code",
   "execution_count": 9,
   "metadata": {},
   "outputs": [
    {
     "data": {
      "text/plain": [
       "Endofunctor[list]([2, 3, 4])"
      ]
     },
     "execution_count": 9,
     "metadata": {},
     "output_type": "execute_result"
    }
   ],
   "source": [
    "result = fmap(list_f, lambda x: x + 1)\n",
    "result"
   ]
  },
  {
   "cell_type": "code",
   "execution_count": 10,
   "metadata": {},
   "outputs": [
    {
     "data": {
      "text/plain": [
       "Nothing"
      ]
     },
     "execution_count": 10,
     "metadata": {},
     "output_type": "execute_result"
    }
   ],
   "source": [
    "MaybeF = endofunctor[Maybe](fmap=maybe.fmap)\n",
    "maybe_f = MaybeF(int, Just(1))\n",
    "\n",
    "x = maybe_f.fmap(lambda x: x + 2).fmap(lambda x: None)\n",
    "x._finst"
   ]
  }
 ],
 "metadata": {
  "kernelspec": {
   "display_name": ".env312ju",
   "language": "python",
   "name": "python3"
  },
  "language_info": {
   "codemirror_mode": {
    "name": "ipython",
    "version": 3
   },
   "file_extension": ".py",
   "mimetype": "text/x-python",
   "name": "python",
   "nbconvert_exporter": "python",
   "pygments_lexer": "ipython3",
   "version": "3.12.6"
  }
 },
 "nbformat": 4,
 "nbformat_minor": 2
}
